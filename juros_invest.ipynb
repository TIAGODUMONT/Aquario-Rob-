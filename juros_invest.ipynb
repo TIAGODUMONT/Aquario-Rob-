{
  "nbformat": 4,
  "nbformat_minor": 0,
  "metadata": {
    "colab": {
      "name": "juros invest.ipynb",
      "provenance": [],
      "authorship_tag": "ABX9TyOobqqO/+89M356V1cJjCkX",
      "include_colab_link": true
    },
    "kernelspec": {
      "name": "python3",
      "display_name": "Python 3"
    }
  },
  "cells": [
    {
      "cell_type": "markdown",
      "metadata": {
        "id": "view-in-github",
        "colab_type": "text"
      },
      "source": [
        "<a href=\"https://colab.research.google.com/github/TIAGODUMONT/Aquario-Rob-/blob/master/juros_invest.ipynb\" target=\"_parent\"><img src=\"https://colab.research.google.com/assets/colab-badge.svg\" alt=\"Open In Colab\"/></a>"
      ]
    },
    {
      "cell_type": "markdown",
      "metadata": {
        "id": "aBqX4fdmTFAx"
      },
      "source": [
        "Programa que calcula Juros compostos e de investimentos "
      ]
    },
    {
      "cell_type": "code",
      "metadata": {
        "id": "b4_NJp1Z5AKh"
      },
      "source": [
        "# a = Valor Futuro\r\n",
        "# P = Valor Presente\r\n",
        "# r = taxa de juros anual nominal\r\n",
        "# n = número de vezes que o juros é capitalizado por ano\r\n",
        "# t = número de anos"
      ],
      "execution_count": 58,
      "outputs": []
    },
    {
      "cell_type": "code",
      "metadata": {
        "id": "2s38pSo1sEB5"
      },
      "source": [
        "\r\n",
        "def invest ( p,r,n,t ):\r\n",
        " a = p * (1 + r / n) ** (t * n)\r\n",
        " print('o valor futuro sera de {%2})"
      ],
      "execution_count": 66,
      "outputs": []
    },
    {
      "cell_type": "code",
      "metadata": {
        "colab": {
          "base_uri": "https://localhost:8080/"
        },
        "id": "OmeL9vda5CFd",
        "outputId": "fce8e92a-8494-4d12-b9dc-4a960a67db51"
      },
      "source": [
        "invest(20000,1,1,3)"
      ],
      "execution_count": 71,
      "outputs": [
        {
          "output_type": "stream",
          "text": [
            "160000.0\n"
          ],
          "name": "stdout"
        }
      ]
    },
    {
      "cell_type": "code",
      "metadata": {
        "id": "igSMkNnQuSTB"
      },
      "source": [
        "  "
      ],
      "execution_count": null,
      "outputs": []
    }
  ]
}