{
  "nbformat": 4,
  "nbformat_minor": 0,
  "metadata": {
    "colab": {
      "name": "Banco Dumont.ipynb",
      "provenance": [],
      "authorship_tag": "ABX9TyMMEXeC6I2xvE0AmX02vbX5",
      "include_colab_link": true
    },
    "kernelspec": {
      "name": "python3",
      "display_name": "Python 3"
    }
  },
  "cells": [
    {
      "cell_type": "markdown",
      "metadata": {
        "id": "view-in-github",
        "colab_type": "text"
      },
      "source": [
        "<a href=\"https://colab.research.google.com/github/TIAGODUMONT/Aquario-Rob-/blob/master/Banco_Dumont.ipynb\" target=\"_parent\"><img src=\"https://colab.research.google.com/assets/colab-badge.svg\" alt=\"Open In Colab\"/></a>"
      ]
    },
    {
      "cell_type": "code",
      "metadata": {
        "id": "SjWta02ftsxM"
      },
      "source": [
        "class Conta():\r\n",
        "\r\n",
        "    def __init__(self , numero , titular , limite , saldo):\r\n",
        "      \r\n",
        "      self.__numero = numero\r\n",
        "      self.__titular = titular\r\n",
        "      self.__limite = limite\r\n",
        "      self.__saldo = saldo\r\n",
        "\r\n",
        "    def extrato(self):\r\n",
        "      print(' O saldo {} do titular {}'.format(self.__saldo, self.__titular))\r\n",
        "\r\n",
        "    def saca (self , valor):\r\n",
        "      self.__saldo = self.__saldo - valor\r\n",
        "      \r\n",
        "    def deposita(self , valor): \r\n",
        "      self.__saldo = self.__saldo + valor \r\n",
        "\r\n",
        "    def transferencia(self , valor , destino):\r\n",
        "      self.saca(valor)\r\n",
        "      destino.deposita(valor)\r\n",
        "\r\n",
        "    def get_saldo (self):\r\n",
        "       return self.__saldo\r\n",
        "\r\n",
        "    def get_titular(self):\r\n",
        "       return self.__titular\r\n",
        "\r\n",
        "    def get_limite(self):\r\n",
        "       return self.__limite    \r\n",
        "\r\n",
        "  "
      ],
      "execution_count": 170,
      "outputs": []
    },
    {
      "cell_type": "code",
      "metadata": {
        "id": "vP0kHLSk0NZN"
      },
      "source": [
        "conta1 = Conta(123 , 'Tiago Dumont', 1500 , 1000)"
      ],
      "execution_count": 178,
      "outputs": []
    },
    {
      "cell_type": "code",
      "metadata": {
        "id": "ZZZ7_8oy0WiS"
      },
      "source": [
        "conta2 = Conta(321 , 'Lydia Dumont', 1500 , 1000)"
      ],
      "execution_count": 179,
      "outputs": []
    },
    {
      "cell_type": "code",
      "metadata": {
        "colab": {
          "base_uri": "https://localhost:8080/"
        },
        "id": "uI6T8BWPWCow",
        "outputId": "8ee846ce-c218-4d78-abb0-871e5016428d"
      },
      "source": [
        "conta1.get_saldo()"
      ],
      "execution_count": 180,
      "outputs": [
        {
          "output_type": "execute_result",
          "data": {
            "text/plain": [
              "1000"
            ]
          },
          "metadata": {
            "tags": []
          },
          "execution_count": 180
        }
      ]
    },
    {
      "cell_type": "code",
      "metadata": {
        "colab": {
          "base_uri": "https://localhost:8080/",
          "height": 35
        },
        "id": "RpXwMPFJWDIY",
        "outputId": "5e11fdb8-32c6-4540-e923-76651e4c78e4"
      },
      "source": [
        "conta1.get_titular()"
      ],
      "execution_count": 181,
      "outputs": [
        {
          "output_type": "execute_result",
          "data": {
            "application/vnd.google.colaboratory.intrinsic+json": {
              "type": "string"
            },
            "text/plain": [
              "'Tiago Dumont'"
            ]
          },
          "metadata": {
            "tags": []
          },
          "execution_count": 181
        }
      ]
    },
    {
      "cell_type": "code",
      "metadata": {
        "colab": {
          "base_uri": "https://localhost:8080/"
        },
        "id": "EpCgAoPK1GFB",
        "outputId": "2cf2cb83-8050-4125-8bf7-e224291a184a"
      },
      "source": [
        "conta1.get_limite()"
      ],
      "execution_count": 183,
      "outputs": [
        {
          "output_type": "execute_result",
          "data": {
            "text/plain": [
              "1500"
            ]
          },
          "metadata": {
            "tags": []
          },
          "execution_count": 183
        }
      ]
    },
    {
      "cell_type": "code",
      "metadata": {
        "id": "Yn2f7XVx9xTY"
      },
      "source": [
        "conta1.transferencia(500,conta2)"
      ],
      "execution_count": 184,
      "outputs": []
    },
    {
      "cell_type": "code",
      "metadata": {
        "colab": {
          "base_uri": "https://localhost:8080/"
        },
        "id": "YdNTY9BIEP2U",
        "outputId": "05934358-052a-4bf8-a3f5-96d6556dd75a"
      },
      "source": [
        "conta1.get_saldo()"
      ],
      "execution_count": 186,
      "outputs": [
        {
          "output_type": "execute_result",
          "data": {
            "text/plain": [
              "500"
            ]
          },
          "metadata": {
            "tags": []
          },
          "execution_count": 186
        }
      ]
    },
    {
      "cell_type": "code",
      "metadata": {
        "colab": {
          "base_uri": "https://localhost:8080/"
        },
        "id": "7AXUNEhGWzPo",
        "outputId": "7fe69012-ce75-4453-a9f4-e1575538a1d6"
      },
      "source": [
        "conta2.get_saldo()"
      ],
      "execution_count": 187,
      "outputs": [
        {
          "output_type": "execute_result",
          "data": {
            "text/plain": [
              "1500"
            ]
          },
          "metadata": {
            "tags": []
          },
          "execution_count": 187
        }
      ]
    },
    {
      "cell_type": "code",
      "metadata": {
        "id": "d3ThME71fAiu"
      },
      "source": [
        ""
      ],
      "execution_count": null,
      "outputs": []
    }
  ]
}