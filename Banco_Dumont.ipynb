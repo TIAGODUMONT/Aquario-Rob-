{
  "nbformat": 4,
  "nbformat_minor": 0,
  "metadata": {
    "colab": {
      "name": "Banco Dumont.ipynb",
      "provenance": [],
      "collapsed_sections": [],
      "authorship_tag": "ABX9TyMux119ZY7MCC8Sa2OLemfh",
      "include_colab_link": true
    },
    "kernelspec": {
      "name": "python3",
      "display_name": "Python 3"
    }
  },
  "cells": [
    {
      "cell_type": "markdown",
      "metadata": {
        "id": "view-in-github",
        "colab_type": "text"
      },
      "source": [
        "<a href=\"https://colab.research.google.com/github/TIAGODUMONT/Aquario-Rob-/blob/master/Banco_Dumont.ipynb\" target=\"_parent\"><img src=\"https://colab.research.google.com/assets/colab-badge.svg\" alt=\"Open In Colab\"/></a>"
      ]
    },
    {
      "cell_type": "code",
      "metadata": {
        "id": "SjWta02ftsxM"
      },
      "source": [
        "class Conta():\r\n",
        "\r\n",
        "    def __init__(self , numero , titular , limite , saldo):\r\n",
        "      \r\n",
        "      self.__numero = numero\r\n",
        "      self.__titular = titular\r\n",
        "      self.__limite = limite\r\n",
        "      self.__saldo = saldo\r\n",
        "\r\n",
        "    def extrato(self):\r\n",
        "      print(' O saldo {} do titular {}'.format(self.__saldo, self.__titular))\r\n",
        "\r\n",
        "    def pode_sacar(self ,valor_a_sacar):\r\n",
        "      valor_disponivel = self.__saldo + self.__limite\r\n",
        "      return valor_a_sacar <=valor_disponivel\r\n",
        "\r\n",
        "    def saca(self, valor):\r\n",
        "        if(self.pode_sacar(valor)):\r\n",
        "            self.__saldo = self.__saldo - valor\r\n",
        "         \r\n",
        "        else:\r\n",
        "         print(\"O valor {} passou do limite\".format(valor))\r\n",
        "\r\n",
        "        \r\n",
        "       \r\n",
        "      \r\n",
        "    def deposita(self , valor):\r\n",
        "     \r\n",
        "          self.__saldo = self.__saldo + valor\r\n",
        "      \r\n",
        "    def transferencia(self , valor , destino):\r\n",
        "      self.saca(valor)\r\n",
        "      destino.deposita(valor)\r\n",
        "\r\n",
        "    def get_saldo (self):\r\n",
        "       return self.__saldo\r\n",
        "\r\n",
        "    def get_titular(self):\r\n",
        "       return self.__titular\r\n",
        "\r\n",
        "    def get_limite(self):\r\n",
        "       return self.__limite  \r\n",
        "\r\n",
        "    def set_limite(self,limite):\r\n",
        "       self.limite = limite    \r\n",
        "\r\n",
        "  "
      ],
      "execution_count": null,
      "outputs": []
    },
    {
      "cell_type": "code",
      "metadata": {
        "id": "vP0kHLSk0NZN"
      },
      "source": [
        " conta_tiago_dumont = Conta(123 , 'Tiago Dumont', 1000 , 1000)"
      ],
      "execution_count": null,
      "outputs": []
    },
    {
      "cell_type": "code",
      "metadata": {
        "id": "ZZZ7_8oy0WiS"
      },
      "source": [
        "conta_mari_dumont = Conta(321 , 'Mariana kASTER Dumont', 1000 , 1000)"
      ],
      "execution_count": null,
      "outputs": []
    },
    {
      "cell_type": "code",
      "metadata": {
        "id": "RpXwMPFJWDIY"
      },
      "source": [
        "conta_tiago_dumont.transferencia(1000,conta_mari_dumont )"
      ],
      "execution_count": null,
      "outputs": []
    },
    {
      "cell_type": "code",
      "metadata": {
        "colab": {
          "base_uri": "https://localhost:8080/"
        },
        "id": "EpCgAoPK1GFB",
        "outputId": "0fe1150b-22c2-4bce-e346-11ece9cfa4ca"
      },
      "source": [
        "conta_tiago_dumont.get_saldo()"
      ],
      "execution_count": null,
      "outputs": [
        {
          "output_type": "execute_result",
          "data": {
            "text/plain": [
              "0"
            ]
          },
          "metadata": {
            "tags": []
          },
          "execution_count": 105
        }
      ]
    },
    {
      "cell_type": "code",
      "metadata": {
        "id": "Yn2f7XVx9xTY"
      },
      "source": [
        "conta1.transferencia(500,conta2)"
      ],
      "execution_count": null,
      "outputs": []
    },
    {
      "cell_type": "code",
      "metadata": {
        "colab": {
          "base_uri": "https://localhost:8080/"
        },
        "id": "YdNTY9BIEP2U",
        "outputId": "37e52840-c991-4d9e-dd45-078c662dec62"
      },
      "source": [
        "conta1.get_saldo()"
      ],
      "execution_count": null,
      "outputs": [
        {
          "output_type": "execute_result",
          "data": {
            "text/plain": [
              "-400"
            ]
          },
          "metadata": {
            "tags": []
          },
          "execution_count": 446
        }
      ]
    },
    {
      "cell_type": "code",
      "metadata": {
        "colab": {
          "base_uri": "https://localhost:8080/"
        },
        "id": "7AXUNEhGWzPo",
        "outputId": "fb233cb8-bdea-4322-f8f6-d047e5b438f0"
      },
      "source": [
        "conta2.get_saldo()"
      ],
      "execution_count": null,
      "outputs": [
        {
          "output_type": "execute_result",
          "data": {
            "text/plain": [
              "1500"
            ]
          },
          "metadata": {
            "tags": []
          },
          "execution_count": 447
        }
      ]
    },
    {
      "cell_type": "code",
      "metadata": {
        "id": "d3ThME71fAiu"
      },
      "source": [
        "conta1.set_limite(500)"
      ],
      "execution_count": null,
      "outputs": []
    },
    {
      "cell_type": "code",
      "metadata": {
        "colab": {
          "base_uri": "https://localhost:8080/"
        },
        "id": "med6qk6DhxKB",
        "outputId": "b8c18d40-1731-4332-937f-9bb2efc9cf4f"
      },
      "source": [
        "conta1.get_saldo()"
      ],
      "execution_count": null,
      "outputs": [
        {
          "output_type": "execute_result",
          "data": {
            "text/plain": [
              "-400"
            ]
          },
          "metadata": {
            "tags": []
          },
          "execution_count": 449
        }
      ]
    },
    {
      "cell_type": "markdown",
      "metadata": {
        "id": "q2KLfi6HTANe"
      },
      "source": [
        ""
      ]
    },
    {
      "cell_type": "code",
      "metadata": {
        "id": "fOnuyKEzdLqN"
      },
      "source": [
        "def invest ( p,r,n,t ):\r\n",
        " a = p * (1 + r / n) ** (t * n)\r\n",
        " print(a)"
      ],
      "execution_count": 1,
      "outputs": []
    },
    {
      "cell_type": "code",
      "metadata": {
        "id": "pHLbmwL-Evm_"
      },
      "source": [
        ""
      ],
      "execution_count": null,
      "outputs": []
    }
  ]
}