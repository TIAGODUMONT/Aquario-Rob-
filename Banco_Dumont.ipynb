{
  "nbformat": 4,
  "nbformat_minor": 0,
  "metadata": {
    "colab": {
      "name": "Banco Dumont.ipynb",
      "provenance": [],
      "collapsed_sections": [],
      "authorship_tag": "ABX9TyPzoSGle9gE9xNwSFvyYkZk",
      "include_colab_link": true
    },
    "kernelspec": {
      "name": "python3",
      "display_name": "Python 3"
    }
  },
  "cells": [
    {
      "cell_type": "markdown",
      "metadata": {
        "id": "view-in-github",
        "colab_type": "text"
      },
      "source": [
        "<a href=\"https://colab.research.google.com/github/TIAGODUMONT/Aquario-Rob-/blob/master/Banco_Dumont.ipynb\" target=\"_parent\"><img src=\"https://colab.research.google.com/assets/colab-badge.svg\" alt=\"Open In Colab\"/></a>"
      ]
    },
    {
      "cell_type": "code",
      "metadata": {
        "id": "SjWta02ftsxM"
      },
      "source": [
        "class Conta():\r\n",
        "\r\n",
        "    def __init__(self , numero , titular , limite , saldo):\r\n",
        "      \r\n",
        "      self.__numero = numero\r\n",
        "      self.__titular = titular\r\n",
        "      self.__limite = limite\r\n",
        "      self.__saldo = saldo\r\n",
        "\r\n",
        "    def extrato(self):\r\n",
        "      print(' O saldo {} do titular {}'.format(self.__saldo, self.__titular))\r\n",
        "\r\n",
        "    def pode_sacar(self ,valor_a_sacar):\r\n",
        "      valor_disponivel = self.__saldo + self.__limite\r\n",
        "      return valor_a_sacar <=valor_disponivel\r\n",
        "\r\n",
        "    def saca(self, valor):\r\n",
        "        if(self.pode_sacar(valor)):\r\n",
        "            self.__saldo = self.__saldo - valor\r\n",
        "         \r\n",
        "        else:\r\n",
        "         print(\"O valor {} passou do limite\".format(valor))\r\n",
        "\r\n",
        "        \r\n",
        "       \r\n",
        "      \r\n",
        "    def deposita(self , valor):\r\n",
        "     \r\n",
        "          self.__saldo = self.__saldo + valor\r\n",
        "      \r\n",
        "    def transferencia(self , valor , destino):\r\n",
        "      self.saca(valor)\r\n",
        "      destino.deposita(valor)\r\n",
        "\r\n",
        "    def get_saldo (self):\r\n",
        "       return self.__saldo\r\n",
        "\r\n",
        "    def get_titular(self):\r\n",
        "       return self.__titular\r\n",
        "\r\n",
        "    def get_limite(self):\r\n",
        "       return self.__limite  \r\n",
        "\r\n",
        "    def set_limite(self,limite):\r\n",
        "       self.limite = limite    \r\n",
        "\r\n",
        "  "
      ],
      "execution_count": 349,
      "outputs": []
    },
    {
      "cell_type": "code",
      "metadata": {
        "id": "vP0kHLSk0NZN"
      },
      "source": [
        " conta1 = Conta(123 , 'Tiago Dumont', 1000 , 1000)"
      ],
      "execution_count": 348,
      "outputs": []
    },
    {
      "cell_type": "code",
      "metadata": {
        "id": "ZZZ7_8oy0WiS"
      },
      "source": [
        "conta2 = Conta(321 , 'Lydia Dumont', 1000 , 1000)"
      ],
      "execution_count": 350,
      "outputs": []
    },
    {
      "cell_type": "code",
      "metadata": {
        "id": "RpXwMPFJWDIY"
      },
      "source": [
        "conta1.saca(900)"
      ],
      "execution_count": 351,
      "outputs": []
    },
    {
      "cell_type": "code",
      "metadata": {
        "colab": {
          "base_uri": "https://localhost:8080/",
          "height": 0
        },
        "id": "EpCgAoPK1GFB",
        "outputId": "cbe34947-1407-40a5-c6f3-455debec8523"
      },
      "source": [
        "conta1.get_saldo()"
      ],
      "execution_count": 353,
      "outputs": [
        {
          "output_type": "execute_result",
          "data": {
            "text/plain": [
              "100"
            ]
          },
          "metadata": {
            "tags": []
          },
          "execution_count": 353
        }
      ]
    },
    {
      "cell_type": "code",
      "metadata": {
        "id": "Yn2f7XVx9xTY"
      },
      "source": [
        "conta1.transferencia(500,conta2)"
      ],
      "execution_count": 215,
      "outputs": []
    },
    {
      "cell_type": "code",
      "metadata": {
        "colab": {
          "base_uri": "https://localhost:8080/",
          "height": 0
        },
        "id": "YdNTY9BIEP2U",
        "outputId": "f5e97207-54b2-4064-8e81-9959c02400f6"
      },
      "source": [
        "conta1.get_saldo()"
      ],
      "execution_count": 216,
      "outputs": [
        {
          "output_type": "execute_result",
          "data": {
            "text/plain": [
              "500"
            ]
          },
          "metadata": {
            "tags": []
          },
          "execution_count": 216
        }
      ]
    },
    {
      "cell_type": "code",
      "metadata": {
        "colab": {
          "base_uri": "https://localhost:8080/",
          "height": 0
        },
        "id": "7AXUNEhGWzPo",
        "outputId": "ca2d801a-b8e7-403a-ac66-8c27bf9b6c25"
      },
      "source": [
        "conta2.get_saldo()"
      ],
      "execution_count": 223,
      "outputs": [
        {
          "output_type": "execute_result",
          "data": {
            "text/plain": [
              "1500"
            ]
          },
          "metadata": {
            "tags": []
          },
          "execution_count": 223
        }
      ]
    },
    {
      "cell_type": "code",
      "metadata": {
        "id": "d3ThME71fAiu"
      },
      "source": [
        "conta1.set_limite(500)"
      ],
      "execution_count": 236,
      "outputs": []
    },
    {
      "cell_type": "code",
      "metadata": {
        "colab": {
          "base_uri": "https://localhost:8080/",
          "height": 0
        },
        "id": "med6qk6DhxKB",
        "outputId": "ddbe0027-a00b-41c2-fd1c-5aab6ccbdd91"
      },
      "source": [
        "conta1.get_saldo()"
      ],
      "execution_count": 237,
      "outputs": [
        {
          "output_type": "execute_result",
          "data": {
            "text/plain": [
              "1000"
            ]
          },
          "metadata": {
            "tags": []
          },
          "execution_count": 237
        }
      ]
    },
    {
      "cell_type": "code",
      "metadata": {
        "id": "5yYcPbbgk7ey"
      },
      "source": [
        ""
      ],
      "execution_count": null,
      "outputs": []
    }
  ]
}