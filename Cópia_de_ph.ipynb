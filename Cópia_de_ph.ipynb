{
  "nbformat": 4,
  "nbformat_minor": 0,
  "metadata": {
    "colab": {
      "name": "Cópia de ph.ipynb",
      "provenance": [],
      "collapsed_sections": [],
      "toc_visible": true,
      "authorship_tag": "ABX9TyOWBOlQ4fZMGlVjnV17p+LK",
      "include_colab_link": true
    },
    "kernelspec": {
      "name": "python3",
      "display_name": "Python 3"
    }
  },
  "cells": [
    {
      "cell_type": "markdown",
      "metadata": {
        "id": "view-in-github",
        "colab_type": "text"
      },
      "source": [
        "<a href=\"https://colab.research.google.com/github/TIAGODUMONT/Aquario-Rob-/blob/master/C%C3%B3pia_de_ph.ipynb\" target=\"_parent\"><img src=\"https://colab.research.google.com/assets/colab-badge.svg\" alt=\"Open In Colab\"/></a>"
      ]
    },
    {
      "cell_type": "code",
      "metadata": {
        "id": "BdOs4pzS5Ruj"
      },
      "source": [
        "import pandas as pd\r\n",
        "import numpy as np\r\n",
        "import matplotlib.pyplot as plt\r\n",
        "import cv2\r\n",
        "\r\n",
        "import seaborn as sns\r\n",
        "%matplotlib inline"
      ],
      "execution_count": null,
      "outputs": []
    },
    {
      "cell_type": "code",
      "metadata": {
        "id": "F4DeRD5B5ipg"
      },
      "source": [
        "class phs():\r\n",
        "  def __init__ (self,ph):\r\n",
        "   a =  self.ph = ph \r\n",
        "   if a < 7: \r\n",
        "    print('Água Ácida')\r\n",
        "   if a > 7: \r\n",
        "    print ('Água Alcalina')\r\n",
        "   if a == 7: \r\n",
        "    print ('Água Neutra')\r\n",
        "        \r\n",
        "       \r\n",
        "\r\n",
        "\r\n",
        " \r\n"
      ],
      "execution_count": 154,
      "outputs": []
    },
    {
      "cell_type": "code",
      "metadata": {
        "colab": {
          "base_uri": "https://localhost:8080/"
        },
        "id": "WmPedYqp6KM2",
        "outputId": "013aeab6-052a-41a0-e3b8-14b5ed7a0b79"
      },
      "source": [
        "phs(8)"
      ],
      "execution_count": 151,
      "outputs": [
        {
          "output_type": "stream",
          "text": [
            "Água Alcalina\n"
          ],
          "name": "stdout"
        },
        {
          "output_type": "execute_result",
          "data": {
            "text/plain": [
              "<__main__.phs at 0x7fd0ec6d6780>"
            ]
          },
          "metadata": {
            "tags": []
          },
          "execution_count": 151
        }
      ]
    },
    {
      "cell_type": "code",
      "metadata": {
        "id": "1kXMiSnp7Hl8"
      },
      "source": [
        "class litros():\r\n",
        "  def __init__ (self,altura,largura,comprimento):\r\n",
        "    a = self.a = altura\r\n",
        "    l = self.l = largura\r\n",
        "    c = self.c = comprimento\r\n",
        "    t = self.a * self.l * self.c / 1000\r\n",
        "    t_1 = t * 0.85 \r\n",
        "    print(' Considerendo o volume total, seu aquário tem {} litros '.format (t))\r\n",
        "    print ('Descontando a caixa de vidro e o substrado de 5cm seu tanque tem {} litros '.format (t_1))\r\n",
        "    \r\n",
        "    "
      ],
      "execution_count": 155,
      "outputs": []
    },
    {
      "cell_type": "code",
      "metadata": {
        "colab": {
          "base_uri": "https://localhost:8080/"
        },
        "id": "0M6vu9lcoFHf",
        "outputId": "b44c799a-a36b-4231-b7f3-57175030fee4"
      },
      "source": [
        "litros(50,50,100)"
      ],
      "execution_count": 156,
      "outputs": [
        {
          "output_type": "stream",
          "text": [
            " Considerendo o volume total, seu aquário tem 250.0 litros \n",
            "Descontando a caixa de vidro e o substrado de 5cm seu tanque tem 212.5 litros \n"
          ],
          "name": "stdout"
        },
        {
          "output_type": "execute_result",
          "data": {
            "text/plain": [
              "<__main__.litros at 0x7fd0ec7a7278>"
            ]
          },
          "metadata": {
            "tags": []
          },
          "execution_count": 156
        }
      ]
    },
    {
      "cell_type": "code",
      "metadata": {
        "id": "GvtAS2iN8K6l"
      },
      "source": [
        "class sump ():\r\n",
        "  def __init__(self, volume):\r\n",
        "    l = self.v = volume * 0.35\r\n",
        "    print('Seu sump precisa de {} litros '.format(l))\r\n",
        "    "
      ],
      "execution_count": null,
      "outputs": []
    },
    {
      "cell_type": "code",
      "metadata": {
        "id": "VsFnhIszEjMp"
      },
      "source": [
        "class alcalinizante():\r\n",
        "  def __init__(self,litros):\r\n",
        "    l = self.l = litros * 0.05\r\n",
        "    print('seu tanque precisa de {} gramas de bibarbonato de sódio para cada 100 litros de agua ' .format(l))"
      ],
      "execution_count": null,
      "outputs": []
    },
    {
      "cell_type": "code",
      "metadata": {
        "colab": {
          "base_uri": "https://localhost:8080/"
        },
        "id": "gJX5GXEW9R_E",
        "outputId": "c6cb25f5-d4b9-4bb7-ac71-c513ce705726"
      },
      "source": [
        "sump(200)"
      ],
      "execution_count": null,
      "outputs": [
        {
          "output_type": "stream",
          "text": [
            "seu sump precisa de 70.0 litros \n"
          ],
          "name": "stdout"
        },
        {
          "output_type": "execute_result",
          "data": {
            "text/plain": [
              "<__main__.sump at 0x7f4f920ef550>"
            ]
          },
          "metadata": {
            "tags": []
          },
          "execution_count": 59
        }
      ]
    },
    {
      "cell_type": "code",
      "metadata": {
        "colab": {
          "base_uri": "https://localhost:8080/"
        },
        "id": "aBvo_X3y9VT7",
        "outputId": "23b65f44-23ef-4d5c-8c18-30ee2ccd8619"
      },
      "source": [
        "litros(100,50,50)"
      ],
      "execution_count": null,
      "outputs": [
        {
          "output_type": "stream",
          "text": [
            "250.0\n"
          ],
          "name": "stdout"
        },
        {
          "output_type": "execute_result",
          "data": {
            "text/plain": [
              "<__main__.litros at 0x7f4f920ef668>"
            ]
          },
          "metadata": {
            "tags": []
          },
          "execution_count": 54
        }
      ]
    },
    {
      "cell_type": "code",
      "metadata": {
        "colab": {
          "base_uri": "https://localhost:8080/"
        },
        "id": "heFONt7h_Sge",
        "outputId": "3924d647-4e3f-417d-c2bd-61604ec7cf80"
      },
      "source": [
        "alcalinizante(100)"
      ],
      "execution_count": null,
      "outputs": [
        {
          "output_type": "stream",
          "text": [
            "seu tanque precisa de 5.0 gramas de bibarbonato de sódio para cada 100 litros de agua \n"
          ],
          "name": "stdout"
        },
        {
          "output_type": "execute_result",
          "data": {
            "text/plain": [
              "<__main__.alcalinizante at 0x7f4f9211fb00>"
            ]
          },
          "metadata": {
            "tags": []
          },
          "execution_count": 64
        }
      ]
    },
    {
      "cell_type": "code",
      "metadata": {
        "id": "FC-WhrH7GcSL"
      },
      "source": [
        "class tpa():\r\n",
        "  def __init__(self,litros):\r\n",
        "    t = self.t = litros * 0.15\r\n",
        "    print('seu tanque precisa de {}  litros de agua ' .format(t))"
      ],
      "execution_count": null,
      "outputs": []
    },
    {
      "cell_type": "code",
      "metadata": {
        "colab": {
          "base_uri": "https://localhost:8080/"
        },
        "id": "6bq3M_NSH10G",
        "outputId": "4ec3658f-fac1-414d-bb79-75368f934dc4"
      },
      "source": [
        "tpa(100)"
      ],
      "execution_count": null,
      "outputs": [
        {
          "output_type": "stream",
          "text": [
            "seu tanque precisa de 15.0  litros de agua \n"
          ],
          "name": "stdout"
        },
        {
          "output_type": "execute_result",
          "data": {
            "text/plain": [
              "<__main__.tpa at 0x7f4f9211f240>"
            ]
          },
          "metadata": {
            "tags": []
          },
          "execution_count": 69
        }
      ]
    },
    {
      "cell_type": "code",
      "metadata": {
        "id": "LZTqp-cgH5sB"
      },
      "source": [
        "class lumens():\r\n",
        "  def __init__(self,litros):\r\n",
        "    l = self.l = litros * 33\r\n",
        "    print('seu tanque precisa de {}  lumens de luz ' .format(l))\r\n",
        "    print('LED 15W= 1500 LUMENS , 1 LAMPADA FLUORECENTE DE 40W TEM 1650 LUMENS')"
      ],
      "execution_count": null,
      "outputs": []
    },
    {
      "cell_type": "code",
      "metadata": {
        "colab": {
          "base_uri": "https://localhost:8080/"
        },
        "id": "RMSxGMYpInJL",
        "outputId": "881756a1-3396-4e78-a420-9cb8613b226f"
      },
      "source": [
        "lumens(100)"
      ],
      "execution_count": null,
      "outputs": [
        {
          "output_type": "stream",
          "text": [
            "seu tanque precisa de 3300  lumens de luz \n",
            "LED 15W= 1500 LUMENS , 1 LAMPADA FLUORECENTE DE 40W TEM 1650 LUMENS\n"
          ],
          "name": "stdout"
        },
        {
          "output_type": "execute_result",
          "data": {
            "text/plain": [
              "<__main__.lumens at 0x7f4f9211f358>"
            ]
          },
          "metadata": {
            "tags": []
          },
          "execution_count": 79
        }
      ]
    },
    {
      "cell_type": "code",
      "metadata": {
        "id": "0w3CLcoXIrPq"
      },
      "source": [
        "class celsius ():\r\n",
        "  def __init__ (self,celsius):\r\n",
        "   f= self.celsius = 9 * celsius / 5 + 32\r\n",
        "   print ( 'temperatura em {} Fahrenheit '.format(f))\r\n",
        "  "
      ],
      "execution_count": null,
      "outputs": []
    },
    {
      "cell_type": "code",
      "metadata": {
        "colab": {
          "base_uri": "https://localhost:8080/"
        },
        "id": "XX80NHrDLBX6",
        "outputId": "8bd41e58-b26c-4a50-f09c-14ec682abfeb"
      },
      "source": [
        "celsius(30)"
      ],
      "execution_count": null,
      "outputs": [
        {
          "output_type": "stream",
          "text": [
            "temperatura em 86.0 Fahrenheit \n"
          ],
          "name": "stdout"
        },
        {
          "output_type": "execute_result",
          "data": {
            "text/plain": [
              "<__main__.celsius at 0x7f4f920c5eb8>"
            ]
          },
          "metadata": {
            "tags": []
          },
          "execution_count": 85
        }
      ]
    },
    {
      "cell_type": "code",
      "metadata": {
        "id": "_gQe08MTLJ-v"
      },
      "source": [
        "class  Fahrenheit ():\r\n",
        "  def __init__ (self,celsius):\r\n",
        "   f= self.celsius = (celsius - 32) * 5 / 9\r\n",
        "   print ( 'temperatura em {} Celsius '.format(f))\r\n",
        "  "
      ],
      "execution_count": null,
      "outputs": []
    },
    {
      "cell_type": "code",
      "metadata": {
        "colab": {
          "base_uri": "https://localhost:8080/"
        },
        "id": "a1XqaKkwMg_-",
        "outputId": "e4605c56-5fdb-46dd-be02-01f40fb0ca39"
      },
      "source": [
        "Fahrenheit(86)"
      ],
      "execution_count": null,
      "outputs": [
        {
          "output_type": "stream",
          "text": [
            "temperatura em 30.0 Celsius \n"
          ],
          "name": "stdout"
        },
        {
          "output_type": "execute_result",
          "data": {
            "text/plain": [
              "<__main__.Fahrenheit at 0x7f4f920c5b00>"
            ]
          },
          "metadata": {
            "tags": []
          },
          "execution_count": 91
        }
      ]
    },
    {
      "cell_type": "code",
      "metadata": {
        "id": "g8TCXN5SMll8"
      },
      "source": [
        "class kwh ():\r\n",
        "  def __init__(self ,kws):\r\n",
        "    e = self.kws =  kws * 1\r\n",
        "    print ('Em média seu aquário gasta R$ {} de luz p/mês '.format(e) )\r\n",
        "    print('Lembre - se , kws = watts x horas ligado x dias')"
      ],
      "execution_count": 24,
      "outputs": []
    },
    {
      "cell_type": "code",
      "metadata": {
        "colab": {
          "base_uri": "https://localhost:8080/"
        },
        "id": "PmEQXtYPQM5Y",
        "outputId": "86426923-185b-4285-f432-556f5335b427"
      },
      "source": [
        "kwh(86)"
      ],
      "execution_count": 25,
      "outputs": [
        {
          "output_type": "stream",
          "text": [
            "Em média seu aquário gasta R$ 86 de luz p/mês \n",
            "Lembre - se , kws = watts x horas ligado x dias\n"
          ],
          "name": "stdout"
        },
        {
          "output_type": "execute_result",
          "data": {
            "text/plain": [
              "<__main__.kwh at 0x7fd0ec82feb8>"
            ]
          },
          "metadata": {
            "tags": []
          },
          "execution_count": 25
        }
      ]
    },
    {
      "cell_type": "code",
      "metadata": {
        "id": "4AKX6MexQRRH"
      },
      "source": [
        "class vidro():\r\n",
        "  def __init__(self , altura ):\r\n",
        "    self.altura = altura\r\n",
        "    if altura in range(1,51):\r\n",
        "       print('vidro 6mm a 8mm')\r\n",
        "\r\n",
        "    if altura in range(51,61):\r\n",
        "       print('vidro  8mm a 10mm')   \r\n",
        "\r\n",
        "    if altura in range(61,71):\r\n",
        "       print('vidro 12mm a 16mm')\r\n",
        "\r\n",
        "    if altura in range(71,101):\r\n",
        "       print('vidro 16mm a 20mm')   \r\n",
        "\r\n"
      ],
      "execution_count": 61,
      "outputs": []
    },
    {
      "cell_type": "code",
      "metadata": {
        "colab": {
          "base_uri": "https://localhost:8080/"
        },
        "id": "blzM3Bw3UEHq",
        "outputId": "2bcd4044-2e4a-4d67-c8b1-9b3d568e3036"
      },
      "source": [
        "vidro(61)"
      ],
      "execution_count": 60,
      "outputs": [
        {
          "output_type": "stream",
          "text": [
            "vidro 12mm a 16\n"
          ],
          "name": "stdout"
        },
        {
          "output_type": "execute_result",
          "data": {
            "text/plain": [
              "<__main__.vidro at 0x7fd0ec7caf98>"
            ]
          },
          "metadata": {
            "tags": []
          },
          "execution_count": 60
        }
      ]
    },
    {
      "cell_type": "code",
      "metadata": {
        "id": "08GhDpFdUabP"
      },
      "source": [
        "class sal():\r\n",
        "  def __init__(self,litros):\r\n",
        "    s = self.s = litros * 36\r\n",
        "    print('Seu Aquário precisa de {} gramas de sal ' .format(s))"
      ],
      "execution_count": 157,
      "outputs": []
    },
    {
      "cell_type": "code",
      "metadata": {
        "colab": {
          "base_uri": "https://localhost:8080/"
        },
        "id": "UXS51ecadyrt",
        "outputId": "1176cf70-6a66-43db-b5ba-63a9d6be36bd"
      },
      "source": [
        "sal(50)"
      ],
      "execution_count": 158,
      "outputs": [
        {
          "output_type": "stream",
          "text": [
            "Seu Aquário precisa de 1800 gramas de sal \n"
          ],
          "name": "stdout"
        },
        {
          "output_type": "execute_result",
          "data": {
            "text/plain": [
              "<__main__.sal at 0x7fd0ec755be0>"
            ]
          },
          "metadata": {
            "tags": []
          },
          "execution_count": 158
        }
      ]
    },
    {
      "cell_type": "code",
      "metadata": {
        "id": "CKUcZwj9d3A3"
      },
      "source": [
        ""
      ],
      "execution_count": null,
      "outputs": []
    }
  ]
}